{
  "nbformat": 4,
  "nbformat_minor": 0,
  "metadata": {
    "colab": {
      "name": "Assignment 1.ipynb",
      "provenance": [],
      "collapsed_sections": []
    },
    "kernelspec": {
      "name": "python3",
      "display_name": "Python 3"
    }
  },
  "cells": [
    {
      "cell_type": "markdown",
      "metadata": {
        "id": "V5jKTugOgF2E",
        "colab_type": "text"
      },
      "source": [
        "# Assignment #1 - Print the numbers which are divisible by 7 but not 5 between the range 2000 and 3200"
      ]
    },
    {
      "cell_type": "code",
      "metadata": {
        "id": "YjY_vL5Ye03H",
        "colab_type": "code",
        "colab": {
          "base_uri": "https://localhost:8080/",
          "height": 54
        },
        "outputId": "3f312bbb-b147-42a8-e771-d96f3184deda"
      },
      "source": [
        "# divisible by 7 but not 5\n",
        "var = []\n",
        "for i in range(2000,3200,1):\n",
        "  if (i%7==0 and i%5!=0):\n",
        "    var.append(i)\n",
        "print(var)"
      ],
      "execution_count": 7,
      "outputs": [
        {
          "output_type": "stream",
          "text": [
            "[2002, 2009, 2016, 2023, 2037, 2044, 2051, 2058, 2072, 2079, 2086, 2093, 2107, 2114, 2121, 2128, 2142, 2149, 2156, 2163, 2177, 2184, 2191, 2198, 2212, 2219, 2226, 2233, 2247, 2254, 2261, 2268, 2282, 2289, 2296, 2303, 2317, 2324, 2331, 2338, 2352, 2359, 2366, 2373, 2387, 2394, 2401, 2408, 2422, 2429, 2436, 2443, 2457, 2464, 2471, 2478, 2492, 2499, 2506, 2513, 2527, 2534, 2541, 2548, 2562, 2569, 2576, 2583, 2597, 2604, 2611, 2618, 2632, 2639, 2646, 2653, 2667, 2674, 2681, 2688, 2702, 2709, 2716, 2723, 2737, 2744, 2751, 2758, 2772, 2779, 2786, 2793, 2807, 2814, 2821, 2828, 2842, 2849, 2856, 2863, 2877, 2884, 2891, 2898, 2912, 2919, 2926, 2933, 2947, 2954, 2961, 2968, 2982, 2989, 2996, 3003, 3017, 3024, 3031, 3038, 3052, 3059, 3066, 3073, 3087, 3094, 3101, 3108, 3122, 3129, 3136, 3143, 3157, 3164, 3171, 3178, 3192, 3199]\n"
          ],
          "name": "stdout"
        }
      ]
    },
    {
      "cell_type": "markdown",
      "metadata": {
        "id": "tYnwai3dgB0O",
        "colab_type": "text"
      },
      "source": [
        "# Assignment #2 - Get the first and last name and print it in reverse order with a space between them"
      ]
    },
    {
      "cell_type": "code",
      "metadata": {
        "id": "imoaNaF0ftf7",
        "colab_type": "code",
        "colab": {
          "base_uri": "https://localhost:8080/",
          "height": 102
        },
        "outputId": "72d47e18-20fa-41e6-8903-d0273f7395bf"
      },
      "source": [
        "first = input(\"Enter your first name:\")\n",
        "last = input(\"Enter your last name:\")\n",
        "print(\"Your name is {} {}\".format(first,last))\n",
        "\n",
        "#reversing the names\n",
        "print(\"Your name in reverse order is {} {}\".format(last,first))\n",
        "\n",
        "#reversing the chars inside the names as well\n",
        "print(\"Reversing the names as well as chars: {} {}\".format(first[::-1],last[::-1]))"
      ],
      "execution_count": 19,
      "outputs": [
        {
          "output_type": "stream",
          "text": [
            "Enter your first name:Sachin\n",
            "Enter your last name:Tendulkar\n",
            "Your name is Sachin Tendulkar\n",
            "Your name in reverse order is Tendulkar Sachin\n",
            "Reversing the names as well as chars: nihcaS rakludneT\n"
          ],
          "name": "stdout"
        }
      ]
    },
    {
      "cell_type": "markdown",
      "metadata": {
        "id": "4DBpiegyiPoZ",
        "colab_type": "text"
      },
      "source": [
        "#Assignment #3: Calculate volume of a sphere\n"
      ]
    },
    {
      "cell_type": "code",
      "metadata": {
        "id": "nuyscrDpiZVj",
        "colab_type": "code",
        "colab": {
          "base_uri": "https://localhost:8080/",
          "height": 51
        },
        "outputId": "86f90459-8537-4108-de2c-8ff92af5e176"
      },
      "source": [
        "import math\n",
        "diameter = input(\"Enter diameter:\")\n",
        "radius = float(diameter)/2\n",
        "volume = float((4/3) * math.pi * radius** 3)\n",
        "print(\"Volume of sphere for the given diameter {} is {} cubic units\".format(diameter,format(volume,'0.2f')))"
      ],
      "execution_count": 18,
      "outputs": [
        {
          "output_type": "stream",
          "text": [
            "Enter diameter:12\n",
            "Volume of sphere for the given diameter 12 is 904.78\n"
          ],
          "name": "stdout"
        }
      ]
    }
  ]
}