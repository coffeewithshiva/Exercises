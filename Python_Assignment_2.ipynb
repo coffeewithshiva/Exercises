{
  "nbformat": 4,
  "nbformat_minor": 0,
  "metadata": {
    "colab": {
      "name": "Python Assignment 2.ipynb",
      "provenance": []
    },
    "kernelspec": {
      "name": "python3",
      "display_name": "Python 3"
    }
  },
  "cells": [
    {
      "cell_type": "markdown",
      "metadata": {
        "id": "e8_cmo6U7lPp",
        "colab_type": "text"
      },
      "source": [
        "Question #1: Use loop to print *"
      ]
    },
    {
      "cell_type": "code",
      "metadata": {
        "id": "WocJzOCv7qbk",
        "colab_type": "code",
        "colab": {
          "base_uri": "https://localhost:8080/",
          "height": 340
        },
        "outputId": "a3d2ffa8-d578-448d-f587-99ddeff2cac8"
      },
      "source": [
        "j = 20\n",
        "for i in range(1,j,1):\n",
        "  if (i<= (j/2)):\n",
        "    tmp = i\n",
        "  else:\n",
        "    tmp = tmp - 1\n",
        "  print(\" * \" * (tmp))"
      ],
      "execution_count": 30,
      "outputs": [
        {
          "output_type": "stream",
          "text": [
            " * \n",
            " *  * \n",
            " *  *  * \n",
            " *  *  *  * \n",
            " *  *  *  *  * \n",
            " *  *  *  *  *  * \n",
            " *  *  *  *  *  *  * \n",
            " *  *  *  *  *  *  *  * \n",
            " *  *  *  *  *  *  *  *  * \n",
            " *  *  *  *  *  *  *  *  *  * \n",
            " *  *  *  *  *  *  *  *  * \n",
            " *  *  *  *  *  *  *  * \n",
            " *  *  *  *  *  *  * \n",
            " *  *  *  *  *  * \n",
            " *  *  *  *  * \n",
            " *  *  *  * \n",
            " *  *  * \n",
            " *  * \n",
            " * \n"
          ],
          "name": "stdout"
        }
      ]
    },
    {
      "cell_type": "markdown",
      "metadata": {
        "id": "zm4WyeJD7Cow",
        "colab_type": "text"
      },
      "source": [
        "Question #2: Accept name from user and reverse it"
      ]
    },
    {
      "cell_type": "code",
      "metadata": {
        "id": "0AYRGcO6636d",
        "colab_type": "code",
        "colab": {
          "base_uri": "https://localhost:8080/",
          "height": 51
        },
        "outputId": "d47341f0-612b-45e7-cdd3-1be2e88ff800"
      },
      "source": [
        "name = input(\"Enter a name to reverse it:\")\n",
        "print(\"Reversed name is {}\".format(name[::-1]))"
      ],
      "execution_count": 1,
      "outputs": [
        {
          "output_type": "stream",
          "text": [
            "Enter a name to reverse it:ineuron\n",
            "Reversed name is norueni\n"
          ],
          "name": "stdout"
        }
      ]
    }
  ]
}